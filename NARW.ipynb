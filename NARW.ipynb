{
 "cells": [
  {
   "cell_type": "markdown",
   "id": "97fc2caf-18e8-4f41-a820-4116f60d88b3",
   "metadata": {
    "tags": []
   },
   "source": [
    "# NARW \n",
    "![North Atlantic Right Whale - Eubalaena glacialis](D540D218-14A3-41CC-A279-9607FC1EE487.jpeg)\n",
    "\n",
    "[Last of the Right Whales](https://lastoftherightwhales.com)\n",
    "\n",
    "[whale entanglement](https://www.andersoncabotcenterforoceanlife.org/blog/scenes-from-a-right-whale-entanglement) [NARW #4615](https://youtu.be/CddjGHAJNrk)\n",
    "\n",
    "[another film - Entangled](https://entangled-film.com/)"
   ]
  },
  {
   "cell_type": "markdown",
   "id": "724a6e91-fe9d-4958-8d39-ccaa0e130111",
   "metadata": {
    "tags": []
   },
   "source": [
    "<hr/>\n",
    "\n",
    "## what \n",
    "\n",
    "* [North Atlantic Right Whale - Eubalaena glacialis](https://www.fisheries.noaa.gov/species/north-atlantic-right-whale)\n",
    "* [North Pacific Right Whale - Eubalaena japonica](https://www.fisheries.noaa.gov/species/north-pacific-right-whale)\n",
    "* Southern Right Whale - E. australis\n",
    "\n",
    "[Whale Anatomy](https://oceantoday.noaa.gov/whaleanatomy/welcome.html)\n",
    "\n",
    "[Human Connections](https://ocean.si.edu/ocean-life/marine-mammals/north-atlantic-right-whale)"
   ]
  },
  {
   "cell_type": "markdown",
   "id": "f45c92ff-8db3-4247-a509-2b083a009ffd",
   "metadata": {
    "tags": []
   },
   "source": [
    "<hr/>\n",
    "\n",
    "## whoi\n",
    "* whales http://rwcatalog.neaq.org/#/whales\n",
    "* [Snow Cone](https://www.fisheries.noaa.gov/feature-story/snow-cone-watch-updates-entangled-right-whale-mother-and-newborn-calf) [NARW #3560](https://www.youtube.com/watch?v=nqUq8Jh4vUA)\n",
    "* [scientists (including citizens)](https://www.whoi.edu/know-your-ocean/ocean-topics/ocean-life/right-whales/)\n",
    "* management- multi-level\n",
    "  * [Atlantic Large Whale Take Reduction](https://www.youtube.com/watch?v=fgrjMufULng) - 1997 (25 years)\n",
    "    * yearly \"stock assessment\"\n",
    "  * Endangered Species Act - \"jeopardy\"\n",
    "* fishing \n",
    "  * whalers \n",
    "  * lobster and crab fishers\n",
    "  * others (lines, nets)\n",
    "  * tracking vessels for research and enforcement\n",
    "* shipping"
   ]
  },
  {
   "cell_type": "markdown",
   "id": "56c90a60-5d10-4d56-9fec-f6a5a2385b6c",
   "metadata": {
    "tags": []
   },
   "source": [
    "<hr/>\n",
    "\n",
    "## where / when  \n",
    "   https://whalemap.ocean.dal.ca/#map\n",
    "\n",
    "[2019 Canada](2019_NARW_incident_report_June_2020-compressed.pdf)\n",
    "\n",
    "Critical Habitat (Fisheries and Oceans Canada, 2014"
   ]
  },
  {
   "cell_type": "markdown",
   "id": "8dc8b23a-38dd-45ca-a781-03711b30e9e5",
   "metadata": {
    "tags": []
   },
   "source": [
    "<hr/>\n",
    "\n",
    "## why\n",
    "\n",
    "\"The principal factor believed to be retarding growth and recovery of the [NARW] population is entanglement with fishing gear\" - [NOAA Technical Memorandum NMFS-NE-258](noaa_20611_DS1.pdf)\n",
    "\n",
    "\"There are two endangered populations at stake here: the North Atlantic right whale and the Maine lobster fishermen.” - [The Lobster Trap](https://apps.bostonglobe.com/metro/2021/12/the-lobster-trap/?p1=Article_Inline_Related_Link)\n",
    "\n",
    "[The lobster industry in Maine has doubled since 2000](https://www.maine.gov/dmr/commercial-fishing/landings/documents/lobster.graph.2021.pdf)\n",
    "\n",
    "[Since 2010, the average number of new NARW calves per year has halved, from 23 to 12](https://www.int-res.com/articles/feature/d143p205.pdf)\n",
    "\n",
    "Due to warming waters in [Gulf of Maine, lobster fishing](https://lobsterfrommaine.com/protecting-our-oceans-and-coasts/) has moved farther North and off-shore, ropes got stronger\n",
    "\n",
    "  * Knowlton, A.R., J. Robbins, S. Landry, H.A. McKenna, S.D. Kraus and T.B. Werner. 2016. Effects of fishing rope\n",
    "strength on the severity of large whale entanglements. Conserv. Biol. 30:318–328.\n",
    "DOI: 10.1111/cobi.12590\n",
    "\n",
    "[A Risk Analysis of Entanglement](https://storymaps.arcgis.com/stories/efb2e1d058054fb6a1487d964397bffd)\n",
    "\n",
    "[\"Unusual Mortality Event\"](https://www.fisheries.noaa.gov/national/marine-life-distress/2017-2022-north-atlantic-right-whale-unusual-mortality-event):\n",
    "\"a stranding that is unexpected, involves a significant die-off of any marine mammal population, and demands\n",
    "immediate response\""
   ]
  },
  {
   "cell_type": "markdown",
   "id": "c4daa9a9-68a8-46eb-9949-2fa9ab77a26c",
   "metadata": {
    "tags": []
   },
   "source": [
    "<hr/>\n",
    "\n",
    "## how \n",
    "\n",
    "[NOAA - science, regulation, and technology](https://www.fisheries.noaa.gov/search?oq=north+american+right+whale)\n",
    "\n",
    "[regulations for right whales (2019)](https://www.fisheries.noaa.gov/video/right-stuff-regulations-right-whales)\n",
    "\n",
    "[AI for whale id from photos](https://www.fisheries.noaa.gov/new-england-mid-atlantic/science-data/artificial-intelligence-right-whale-photo-identification) https://conbio.onlinelibrary.wiley.com/doi/10.1111/cobi.13226 \n",
    "\n",
    "Closures around Cape Code since 2015\n",
    "Closures in Maine since 2021\n",
    "\n",
    "### and how [gory](https://github.com/robibok/whales) [details](https://blog.deepsense.ai/deep-learning-right-whale-recognition-kaggle/)\n",
    "\n",
    "* ROVs - [acoustic detection of whales](https://asa.scitation.org/doi/10.1121/10.0005898)\n",
    "* season limits -\n",
    "* speed limits - slow down when right whales are seen\n",
    "  * \"voluntary cooperation with DMAs has not proven to have a meaningful impact on vessel speed reduction\"\n",
    "* traps/trawl - less vertical lines\n",
    "* weak rope and ropeless aka on-call fishing gear\n",
    "  * [weak rope - breaks](https://www.mass.gov/doc/12422-dmf-offering-free-buoy-line-marking-materials-and-additional-free-weak-rope/download)\n",
    "  * [early ropeless technology](https://www.whoi.edu/oceanus/feature/whale-safe-fishing-gear/)\n",
    "  * [ongoing technology testing](https://www.mass.gov/service-details/ropeless-fishing-gear-feasibility-study)\n",
    "    * [SMELTS](https://www.smelts.org/)\n",
    "    * [EdgeTech](https://www.edgetech.com/)\n",
    " * [challenges](https://capecodfishermen.org/item/aidsropelesshear-0127?category_id=9)\n",
    "   * [Pioneers for a Thoughtful Co-Existence](https://www.capeandislands.org/local-news/2022-01-13/lobsterman-v-lobsterman-fight-over-ropeless-fishing-divides-industry)\n",
    "   * ropeless gear should also include locator tech, so anyone (trawlers) can know where there are traps without buoys \n",
    " * gill nets - acoustic signals to warn whales\n",
    " * [2021 proposed regulation changes](https://media.fisheries.noaa.gov/2021-01/TRTFactSheetRev011221.pdf) related to [ALWTR](https://fisheries.noaa.gov/ALWTRP)\n",
    "   * around 2/3 of entanglements are occuring in Gulf 0f Main and Canada"
   ]
  }
 ],
 "metadata": {
  "kernelspec": {
   "display_name": "Python 3 (ipykernel)",
   "language": "python",
   "name": "python3"
  },
  "language_info": {
   "codemirror_mode": {
    "name": "ipython",
    "version": 3
   },
   "file_extension": ".py",
   "mimetype": "text/x-python",
   "name": "python",
   "nbconvert_exporter": "python",
   "pygments_lexer": "ipython3",
   "version": "3.9.2"
  }
 },
 "nbformat": 4,
 "nbformat_minor": 5
}
